{
 "cells": [
  {
   "cell_type": "markdown",
   "id": "e8e29e57-2dfe-476b-a2d9-e5ef86066213",
   "metadata": {},
   "source": [
    "   Assignment 1"
   ]
  },
  {
   "cell_type": "code",
   "execution_count": 2,
   "id": "53127ac2-91ac-49e9-b670-097ffcc9944d",
   "metadata": {},
   "outputs": [],
   "source": [
    "# 1"
   ]
  },
  {
   "cell_type": "code",
   "execution_count": 3,
   "id": "680073bd-d2e0-448b-99d4-651c39dad4d0",
   "metadata": {},
   "outputs": [],
   "source": [
    "s = \"osama\""
   ]
  },
  {
   "cell_type": "code",
   "execution_count": 4,
   "id": "06ceace3-9522-448f-bd8a-20b22a968b00",
   "metadata": {},
   "outputs": [
    {
     "data": {
      "text/plain": [
       "str"
      ]
     },
     "execution_count": 4,
     "metadata": {},
     "output_type": "execute_result"
    }
   ],
   "source": [
    "type(s)"
   ]
  },
  {
   "cell_type": "code",
   "execution_count": 5,
   "id": "6248a77b-89d7-4f25-96cf-0dd07ccb0afe",
   "metadata": {},
   "outputs": [],
   "source": [
    "l = [1,2,3]"
   ]
  },
  {
   "cell_type": "code",
   "execution_count": 6,
   "id": "4f401ae9-abf6-4106-9f84-f306942607c8",
   "metadata": {},
   "outputs": [
    {
     "data": {
      "text/plain": [
       "list"
      ]
     },
     "execution_count": 6,
     "metadata": {},
     "output_type": "execute_result"
    }
   ],
   "source": [
    "type(l)"
   ]
  },
  {
   "cell_type": "code",
   "execution_count": 7,
   "id": "f0f34bd9-330e-4fa3-a33c-bb6f8b412934",
   "metadata": {},
   "outputs": [],
   "source": [
    "f = 22.2"
   ]
  },
  {
   "cell_type": "code",
   "execution_count": 8,
   "id": "31b7600a-1748-4755-8873-f8a5b03e4478",
   "metadata": {},
   "outputs": [
    {
     "data": {
      "text/plain": [
       "float"
      ]
     },
     "execution_count": 8,
     "metadata": {},
     "output_type": "execute_result"
    }
   ],
   "source": [
    "type(f)"
   ]
  },
  {
   "cell_type": "code",
   "execution_count": 9,
   "id": "447d6544-80ad-4073-aceb-324b4ab168ec",
   "metadata": {},
   "outputs": [],
   "source": [
    "t = (\"akash\", 22.2,24)"
   ]
  },
  {
   "cell_type": "code",
   "execution_count": 10,
   "id": "e07d0fa0-a658-4453-b540-02f2981860aa",
   "metadata": {},
   "outputs": [
    {
     "data": {
      "text/plain": [
       "tuple"
      ]
     },
     "execution_count": 10,
     "metadata": {},
     "output_type": "execute_result"
    }
   ],
   "source": [
    "type(t)"
   ]
  },
  {
   "cell_type": "code",
   "execution_count": 11,
   "id": "203cf487-26fb-46cb-8f57-e72b37f37039",
   "metadata": {},
   "outputs": [],
   "source": [
    "# 2"
   ]
  },
  {
   "cell_type": "code",
   "execution_count": 12,
   "id": "07f12e7e-731e-4b2e-9d61-16d4a2e9ab02",
   "metadata": {},
   "outputs": [],
   "source": [
    "var1 = \"\""
   ]
  },
  {
   "cell_type": "code",
   "execution_count": 13,
   "id": "8276eafc-368a-4fc9-8399-dfd3b2e7a938",
   "metadata": {},
   "outputs": [
    {
     "data": {
      "text/plain": [
       "str"
      ]
     },
     "execution_count": 13,
     "metadata": {},
     "output_type": "execute_result"
    }
   ],
   "source": [
    "type(var1)"
   ]
  },
  {
   "cell_type": "code",
   "execution_count": 14,
   "id": "7a12c96a-6230-4c45-8261-2eaae220d489",
   "metadata": {},
   "outputs": [],
   "source": [
    "var2 = '[DS,ML,Python]'"
   ]
  },
  {
   "cell_type": "code",
   "execution_count": 15,
   "id": "f6985363-8223-4581-801b-d0414e3728b6",
   "metadata": {},
   "outputs": [
    {
     "data": {
      "text/plain": [
       "str"
      ]
     },
     "execution_count": 15,
     "metadata": {},
     "output_type": "execute_result"
    }
   ],
   "source": [
    "type(var2)"
   ]
  },
  {
   "cell_type": "code",
   "execution_count": 16,
   "id": "5d60ff43-5737-48c6-9483-9cbf78b4bac7",
   "metadata": {},
   "outputs": [],
   "source": [
    "var3 = ['DS','ML','Python']"
   ]
  },
  {
   "cell_type": "code",
   "execution_count": 17,
   "id": "be7e21a8-5f20-45a0-9b4c-e1cd88aeddbd",
   "metadata": {},
   "outputs": [
    {
     "data": {
      "text/plain": [
       "list"
      ]
     },
     "execution_count": 17,
     "metadata": {},
     "output_type": "execute_result"
    }
   ],
   "source": [
    "type(var3)"
   ]
  },
  {
   "cell_type": "code",
   "execution_count": 18,
   "id": "53b1613d-b17c-4db1-bbd3-13186169e261",
   "metadata": {},
   "outputs": [],
   "source": [
    "var4 = 1."
   ]
  },
  {
   "cell_type": "code",
   "execution_count": 19,
   "id": "f232548f-9b50-4eea-b082-b0bacda8b210",
   "metadata": {},
   "outputs": [
    {
     "data": {
      "text/plain": [
       "float"
      ]
     },
     "execution_count": 19,
     "metadata": {},
     "output_type": "execute_result"
    }
   ],
   "source": [
    "type(var4)"
   ]
  },
  {
   "cell_type": "code",
   "execution_count": 20,
   "id": "25b947d5-4084-4040-ba24-9d8e0e791754",
   "metadata": {},
   "outputs": [],
   "source": [
    "# 3"
   ]
  },
  {
   "cell_type": "markdown",
   "id": "95b426b4-cd48-4f41-8a25-263968cf45c5",
   "metadata": {},
   "source": [
    "1./(division operator)"
   ]
  },
  {
   "cell_type": "code",
   "execution_count": 21,
   "id": "363cab96-74df-4e3a-9e4b-d679c678c9c6",
   "metadata": {},
   "outputs": [],
   "source": [
    "division = 10/3"
   ]
  },
  {
   "cell_type": "code",
   "execution_count": 22,
   "id": "77c0785a-ec2d-4575-8f88-84ffc8092d52",
   "metadata": {},
   "outputs": [
    {
     "name": "stdout",
     "output_type": "stream",
     "text": [
      "3.3333333333333335\n"
     ]
    }
   ],
   "source": [
    "print(division)"
   ]
  },
  {
   "cell_type": "markdown",
   "id": "dd80e149-029e-46ed-97fd-cc4d07934718",
   "metadata": {},
   "source": [
    "2.%(modulus operator)"
   ]
  },
  {
   "cell_type": "code",
   "execution_count": 30,
   "id": "bb512ef4-6e32-4e97-8415-9c2e71663802",
   "metadata": {},
   "outputs": [],
   "source": [
    "modulus = 20%8"
   ]
  },
  {
   "cell_type": "code",
   "execution_count": 31,
   "id": "bd317128-5be2-4e24-8397-a669f2e0ed82",
   "metadata": {},
   "outputs": [
    {
     "name": "stdout",
     "output_type": "stream",
     "text": [
      "4\n"
     ]
    }
   ],
   "source": [
    "print(modulus)"
   ]
  },
  {
   "cell_type": "markdown",
   "id": "07ebe9b9-916f-4d4e-889d-84a93e116f39",
   "metadata": {},
   "source": [
    "3. //(floor division operator)"
   ]
  },
  {
   "cell_type": "code",
   "execution_count": 34,
   "id": "93b32688-c623-4bb6-ba8f-e1167c7161d8",
   "metadata": {},
   "outputs": [],
   "source": [
    "result = 20//3"
   ]
  },
  {
   "cell_type": "code",
   "execution_count": 35,
   "id": "40a008ba-d96c-47a0-ae4d-24437b38bc1a",
   "metadata": {},
   "outputs": [
    {
     "name": "stdout",
     "output_type": "stream",
     "text": [
      "6\n"
     ]
    }
   ],
   "source": [
    "print(result)"
   ]
  },
  {
   "cell_type": "markdown",
   "id": "4771c793-a890-4afa-89dd-f56418a118a7",
   "metadata": {},
   "source": [
    "4.**(exponentiation operators)"
   ]
  },
  {
   "cell_type": "code",
   "execution_count": 36,
   "id": "e0f76030-4059-49e0-b7fa-39b0589064bf",
   "metadata": {},
   "outputs": [],
   "source": [
    "exponent = 4 ** 2"
   ]
  },
  {
   "cell_type": "code",
   "execution_count": 37,
   "id": "c7e9e920-2562-4d2f-990d-99cac7762941",
   "metadata": {},
   "outputs": [
    {
     "name": "stdout",
     "output_type": "stream",
     "text": [
      "16\n"
     ]
    }
   ],
   "source": [
    "print(exponent)"
   ]
  },
  {
   "cell_type": "code",
   "execution_count": 38,
   "id": "8d588827-c8ab-41ab-bd91-49785c9c1e0c",
   "metadata": {},
   "outputs": [],
   "source": [
    "# 4"
   ]
  },
  {
   "cell_type": "code",
   "execution_count": 44,
   "id": "2eb5b200-ca8f-4af9-8c65-5d9de15d00d1",
   "metadata": {},
   "outputs": [],
   "source": [
    "list = [\"osama\",\"yasir\",22.2,2,3,4,5,6,7,8,{\"helo\"},[22]]"
   ]
  },
  {
   "cell_type": "code",
   "execution_count": 45,
   "id": "93650771-a364-47c7-8ba3-afffc4ca99ee",
   "metadata": {},
   "outputs": [
    {
     "name": "stdout",
     "output_type": "stream",
     "text": [
      "osama <class 'str'>\n",
      "yasir <class 'str'>\n",
      "22.2 <class 'float'>\n",
      "2 <class 'int'>\n",
      "3 <class 'int'>\n",
      "4 <class 'int'>\n",
      "5 <class 'int'>\n",
      "6 <class 'int'>\n",
      "7 <class 'int'>\n",
      "8 <class 'int'>\n",
      "{'helo'} <class 'set'>\n",
      "[22] <class 'list'>\n"
     ]
    }
   ],
   "source": [
    "for i in list:\n",
    "    print(i, type(i))"
   ]
  },
  {
   "cell_type": "code",
   "execution_count": 42,
   "id": "81411a1e-9335-490d-9339-4f9b81a249db",
   "metadata": {},
   "outputs": [
    {
     "data": {
      "text/plain": [
       "list"
      ]
     },
     "execution_count": 42,
     "metadata": {},
     "output_type": "execute_result"
    }
   ],
   "source": [
    "type(list)"
   ]
  },
  {
   "cell_type": "code",
   "execution_count": 46,
   "id": "873f6222-69a5-41d7-b3f6-d5751d393082",
   "metadata": {},
   "outputs": [],
   "source": [
    "# 5"
   ]
  },
  {
   "cell_type": "code",
   "execution_count": 52,
   "id": "a98ff5cb-c026-4ef1-976c-8d1f8bd36a4a",
   "metadata": {},
   "outputs": [
    {
     "name": "stdin",
     "output_type": "stream",
     "text": [
      "enter the value of number A :  4\n",
      "enter the value of number B :  2\n"
     ]
    },
    {
     "name": "stdout",
     "output_type": "stream",
     "text": [
      "number B is divisible by number B 2 times.\n"
     ]
    }
   ],
   "source": [
    "a = int(input(\"enter the value of number A : \"))\n",
    "b = int(input(\"enter the value of number B : \"))\n",
    "\n",
    "c = 0\n",
    "while a % b == 0:\n",
    "    a//=b \n",
    "    c += 1\n",
    "    \n",
    "if c > 0:\n",
    "    print(f\"number B is divisible by number B {c} times.\")\n",
    "else:\n",
    "    print(\"number A is not divisible by number B. \")"
   ]
  },
  {
   "cell_type": "code",
   "execution_count": 53,
   "id": "0b67c729-e8c6-4e29-a0c1-30317b68dad5",
   "metadata": {},
   "outputs": [],
   "source": [
    "# 6"
   ]
  },
  {
   "cell_type": "code",
   "execution_count": 54,
   "id": "3a9d00b5-fd13-49ae-88d5-1ec42f374082",
   "metadata": {},
   "outputs": [],
   "source": [
    "list = [1,2,3,4,5,6,7,8,12,11,13,14,16,17,19,20,21,22,23,24,25,26,27,28,29]"
   ]
  },
  {
   "cell_type": "code",
   "execution_count": 55,
   "id": "72e70c99-e32f-46d7-a1aa-aaaf2094c7e0",
   "metadata": {},
   "outputs": [
    {
     "name": "stdout",
     "output_type": "stream",
     "text": [
      "1 is not divisible by 3.\n",
      "2 is not divisible by 3.\n",
      "3 is divisible by 3.\n",
      "4 is not divisible by 3.\n",
      "5 is not divisible by 3.\n",
      "6 is divisible by 3.\n",
      "7 is not divisible by 3.\n",
      "8 is not divisible by 3.\n",
      "12 is divisible by 3.\n",
      "11 is not divisible by 3.\n",
      "13 is not divisible by 3.\n",
      "14 is not divisible by 3.\n",
      "16 is not divisible by 3.\n",
      "17 is not divisible by 3.\n",
      "19 is not divisible by 3.\n",
      "20 is not divisible by 3.\n",
      "21 is divisible by 3.\n",
      "22 is not divisible by 3.\n",
      "23 is not divisible by 3.\n",
      "24 is divisible by 3.\n",
      "25 is not divisible by 3.\n",
      "26 is not divisible by 3.\n",
      "27 is divisible by 3.\n",
      "28 is not divisible by 3.\n",
      "29 is not divisible by 3.\n"
     ]
    }
   ],
   "source": [
    "for i in list:\n",
    "    if i%3==0:\n",
    "        print(f\"{i} is divisible by 3.\")\n",
    "    else:\n",
    "        print(f\"{i} is not divisible by 3.\")"
   ]
  },
  {
   "cell_type": "code",
   "execution_count": 57,
   "id": "bb560102-51ef-4fb0-83e2-dee762da7946",
   "metadata": {},
   "outputs": [],
   "source": [
    "# 7"
   ]
  },
  {
   "cell_type": "markdown",
   "id": "7a0632f7-348c-4b0e-b142-93bc1f420842",
   "metadata": {},
   "source": [
    "Between mutable and immutable types lies in whether an object's state can be changed after it is created.\n",
    "immutable data types cannot modified.\n"
   ]
  },
  {
   "cell_type": "code",
   "execution_count": 58,
   "id": "40f6dc68-6c75-485a-b470-6f6f4a5731f3",
   "metadata": {},
   "outputs": [],
   "source": [
    "# for example in int ,it is immutable"
   ]
  },
  {
   "cell_type": "code",
   "execution_count": 59,
   "id": "144c1f08-ade2-48ed-9ef1-83863ad9592a",
   "metadata": {},
   "outputs": [
    {
     "name": "stdout",
     "output_type": "stream",
     "text": [
      "9\n"
     ]
    }
   ],
   "source": [
    "a = 9\n",
    "print(a)"
   ]
  },
  {
   "cell_type": "code",
   "execution_count": 60,
   "id": "c0225b5a-d5dd-4c98-9ac3-ef9918041ddd",
   "metadata": {},
   "outputs": [
    {
     "name": "stdout",
     "output_type": "stream",
     "text": [
      "11\n"
     ]
    }
   ],
   "source": [
    "a+=2\n",
    "print(a)"
   ]
  },
  {
   "cell_type": "code",
   "execution_count": 73,
   "id": "9cb2662e-3df3-4b31-abd6-a319933218d0",
   "metadata": {},
   "outputs": [],
   "source": [
    "# string is also immutable , here's example:"
   ]
  },
  {
   "cell_type": "code",
   "execution_count": 74,
   "id": "a7ca3b89-6710-4752-b679-af2119a9e5eb",
   "metadata": {},
   "outputs": [
    {
     "name": "stdout",
     "output_type": "stream",
     "text": [
      "Hindustan\n"
     ]
    }
   ],
   "source": [
    "company = \"Hindustan\"\n",
    "print(company)"
   ]
  },
  {
   "cell_type": "code",
   "execution_count": 75,
   "id": "bbe5746e-fb55-4683-b9cd-65920e3c20f3",
   "metadata": {},
   "outputs": [],
   "source": [
    "company += \" petrolium\""
   ]
  },
  {
   "cell_type": "code",
   "execution_count": 76,
   "id": "a5bb5ad8-a655-4e80-88bc-2bf594c44f98",
   "metadata": {},
   "outputs": [
    {
     "name": "stdout",
     "output_type": "stream",
     "text": [
      "Hindustan petrolium\n"
     ]
    }
   ],
   "source": [
    "print(company)"
   ]
  },
  {
   "cell_type": "code",
   "execution_count": 77,
   "id": "c765cd20-5e9e-49db-8f9b-1ca0d245037b",
   "metadata": {},
   "outputs": [],
   "source": [
    "# here's some example of list , this is mutable"
   ]
  },
  {
   "cell_type": "code",
   "execution_count": 78,
   "id": "078a96da-0407-4482-92b7-45ad73209a08",
   "metadata": {},
   "outputs": [
    {
     "name": "stdout",
     "output_type": "stream",
     "text": [
      "[1, 2, 3, 4, 5, 6]\n"
     ]
    }
   ],
   "source": [
    "num = [1,2,3,4,5,6]\n",
    "print(num)"
   ]
  },
  {
   "cell_type": "code",
   "execution_count": 79,
   "id": "3d18bfb8-c38b-4535-b43c-d1dedcd62d1d",
   "metadata": {},
   "outputs": [
    {
     "name": "stdout",
     "output_type": "stream",
     "text": [
      "[1, 2, 3, 4, 5, 6, 7]\n"
     ]
    }
   ],
   "source": [
    "num.append(7)\n",
    "print(num)"
   ]
  },
  {
   "cell_type": "code",
   "execution_count": 80,
   "id": "777064a7-d155-406d-ba8c-a101428ed081",
   "metadata": {},
   "outputs": [],
   "source": [
    "# dict also mutable , here's example:"
   ]
  },
  {
   "cell_type": "code",
   "execution_count": 81,
   "id": "a9494460-c727-4044-9214-ea753f9e3c4f",
   "metadata": {},
   "outputs": [
    {
     "name": "stdout",
     "output_type": "stream",
     "text": [
      "{'Company': 'HP', 'place': 'Goa'}\n"
     ]
    }
   ],
   "source": [
    "dict = {\"Company\":\"HP\",\"place\":\"Goa\"}\n",
    "print(dict)"
   ]
  },
  {
   "cell_type": "code",
   "execution_count": 82,
   "id": "ab822de2-f712-4690-a37f-8786442c342b",
   "metadata": {},
   "outputs": [
    {
     "name": "stdout",
     "output_type": "stream",
     "text": [
      "{'Company': 'HP', 'place': 'Delhi'}\n"
     ]
    }
   ],
   "source": [
    "dict[\"place\"]=\"Delhi\"\n",
    "print(dict)"
   ]
  },
  {
   "cell_type": "code",
   "execution_count": null,
   "id": "51411ba9-bd06-48be-8be8-79174801dbd7",
   "metadata": {},
   "outputs": [],
   "source": []
  }
 ],
 "metadata": {
  "kernelspec": {
   "display_name": "Python 3 (ipykernel)",
   "language": "python",
   "name": "python3"
  },
  "language_info": {
   "codemirror_mode": {
    "name": "ipython",
    "version": 3
   },
   "file_extension": ".py",
   "mimetype": "text/x-python",
   "name": "python",
   "nbconvert_exporter": "python",
   "pygments_lexer": "ipython3",
   "version": "3.10.8"
  }
 },
 "nbformat": 4,
 "nbformat_minor": 5
}
